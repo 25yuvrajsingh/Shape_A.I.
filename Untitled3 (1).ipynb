{
  "nbformat": 4,
  "nbformat_minor": 0,
  "metadata": {
    "colab": {
      "name": "Untitled3.ipynb",
      "provenance": []
    },
    "kernelspec": {
      "name": "python3",
      "display_name": "Python 3"
    },
    "language_info": {
      "name": "python"
    }
  },
  "cells": [
    {
      "cell_type": "code",
      "metadata": {
        "id": "5Mwez-TIR1yj"
      },
      "source": [
        "!pip install keras-tuner"
      ],
      "execution_count": null,
      "outputs": []
    },
    {
      "cell_type": "code",
      "metadata": {
        "id": "gkCFOEJ8SBc9"
      },
      "source": [
        "import tensorflow as tf\n",
        "from tensorflow import keras\n",
        "import numpy as np"
      ],
      "execution_count": 42,
      "outputs": []
    },
    {
      "cell_type": "code",
      "metadata": {
        "id": "NdmOjHjvSBs8"
      },
      "source": [
        "fashion_mnist=keras.datasets.fashion_mnist"
      ],
      "execution_count": 43,
      "outputs": []
    },
    {
      "cell_type": "code",
      "metadata": {
        "id": "x_K0lGT3SB4y"
      },
      "source": [
        "(train_images,train_labels),(test_images, test_labels)=fashion_mnist.load_data()"
      ],
      "execution_count": 44,
      "outputs": []
    },
    {
      "cell_type": "code",
      "metadata": {
        "id": "I4UyLAFdTX3d"
      },
      "source": [
        "train_images-train_images/255.0\n",
        "test_images-test_images/255.0\n"
      ],
      "execution_count": null,
      "outputs": []
    },
    {
      "cell_type": "code",
      "metadata": {
        "colab": {
          "base_uri": "https://localhost:8080/"
        },
        "id": "_RzrO_7fTYEa",
        "outputId": "cb33f045-2423-4025-d582-71fc0db6ec4c"
      },
      "source": [
        "train_images[0].shape"
      ],
      "execution_count": 46,
      "outputs": [
        {
          "output_type": "execute_result",
          "data": {
            "text/plain": [
              "(28, 28)"
            ]
          },
          "metadata": {
            "tags": []
          },
          "execution_count": 46
        }
      ]
    },
    {
      "cell_type": "code",
      "metadata": {
        "id": "5vH0JwldT8Ae"
      },
      "source": [
        "train_images = train_images.reshape(len(train_images),28,28,1)\n",
        "test_images = test_images.reshape(len(test_images),28,28,1)"
      ],
      "execution_count": 47,
      "outputs": []
    },
    {
      "cell_type": "code",
      "metadata": {
        "id": "esPkjVpWT8Kt"
      },
      "source": [
        "def build_model(hp):\n",
        "   model = keras.Sequential([\n",
        "      keras.layers.Conv2D(\n",
        "          filters=hp.Int('conv_1_filter',min_value=32 , max_value=128, step=16),\n",
        "          kernel_size=hp.Choice('conv_1_kernel' , values=[3,5]),\n",
        "          activation='relu',\n",
        "          input_shape=(28,28,1)\n",
        "      ),\n",
        "      keras.layers.Conv2D(\n",
        "          filters=hp.Int('conv_2_filter',min_value=32 , max_value=64, step=16),\n",
        "          kernel_size=hp.Choice('conv_2_kernel' , values=[3,5]),\n",
        "          activation='relu'\n",
        "      ),\n",
        "      keras.layers.Flatten(),\n",
        "      keras.layers.Dense(\n",
        "          units=hp.Int('dense_1_units',min_value=32 , max_value=128, step=16),\n",
        "          activation='relu'\n",
        "      ),\n",
        "      keras.layers.Dense(10, activation='softmax')   #Output Layer\n",
        "\n",
        "])\n",
        "\n",
        "model.compile(optimizer=keras.optimizers.Adam(hp.Choice('learning_rate', values=[1e-2, 1e-3])),\n",
        "               loss='sparse_categorical_crossentropy',\n",
        "               metrics=['accuracy'] )\n",
        "return model\n"
      ],
      "execution_count": null,
      "outputs": []
    },
    {
      "cell_type": "code",
      "metadata": {
        "id": "8B0eVu06Zkrz"
      },
      "source": [
        "from kerastuner import RandomSearch\n",
        "from kerastuner.engine.hyperparameters import HyperParameters"
      ],
      "execution_count": 53,
      "outputs": []
    },
    {
      "cell_type": "code",
      "metadata": {
        "id": "1fCecybMaPeW"
      },
      "source": [
        "tuner_search=RandomSearch(build_model,\n",
        "                          objective='val_accuracy',\n",
        "                          max_trials=5, directory='output', project_name=\"Mnist Fashion\")"
      ],
      "execution_count": null,
      "outputs": []
    },
    {
      "cell_type": "code",
      "metadata": {
        "id": "4LxEefiRaPkE"
      },
      "source": [
        "tuner_search.search(train_images, train_labels,epochs=3 ,validation_split=0.1)"
      ],
      "execution_count": null,
      "outputs": []
    },
    {
      "cell_type": "code",
      "metadata": {
        "id": "a7GZw_bMTYPO"
      },
      "source": [
        "model=tuner_search.get_best_models(num_models=1)[0]"
      ],
      "execution_count": null,
      "outputs": []
    },
    {
      "cell_type": "code",
      "metadata": {
        "id": "i5IKxYcZb2xy"
      },
      "source": [
        "model.summary()"
      ],
      "execution_count": null,
      "outputs": []
    }
  ]
}